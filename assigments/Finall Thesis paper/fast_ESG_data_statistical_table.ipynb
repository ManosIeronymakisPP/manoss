{
 "cells": [
  {
   "cell_type": "markdown",
   "id": "196bc14d",
   "metadata": {},
   "source": [
    "# Data Load"
   ]
  },
  {
   "cell_type": "code",
   "execution_count": 2,
   "id": "d5ade739",
   "metadata": {},
   "outputs": [],
   "source": [
    "import pandas as pd\n",
    "import os"
   ]
  },
  {
   "cell_type": "code",
   "execution_count": 3,
   "id": "9bfb0a60",
   "metadata": {},
   "outputs": [
    {
     "name": "stdout",
     "output_type": "stream",
     "text": [
      "                  windowTimestamp  industry                    industryName  \\\n",
      "0        2005-01-01T20:30:00.000Z  501020.0                       Oil & Gas   \n",
      "1        2005-01-01T20:30:00.000Z  501020.0                       Oil & Gas   \n",
      "2        2005-01-01T20:30:00.000Z  501020.0                       Oil & Gas   \n",
      "3        2005-01-01T20:30:00.000Z  501020.0                       Oil & Gas   \n",
      "4        2005-01-01T20:30:00.000Z  501020.0                       Oil & Gas   \n",
      "...                           ...       ...                             ...   \n",
      "3155037  2024-02-29T20:30:00.000Z  601020.0  Residential & Commercial REITs   \n",
      "3155038  2024-02-29T20:30:00.000Z  601020.0  Residential & Commercial REITs   \n",
      "3155039  2024-02-29T20:30:00.000Z  601020.0  Residential & Commercial REITs   \n",
      "3155040  2024-02-29T20:30:00.000Z  601020.0  Residential & Commercial REITs   \n",
      "3155041  2024-02-29T20:30:00.000Z  601020.0  Residential & Commercial REITs   \n",
      "\n",
      "          assetCode ticker                       name    buzz   ESG  \\\n",
      "0        4295903051    COP             ConocoPhillips  7339.5  88.0   \n",
      "1        4295903355    HES                  Hess Corp   490.0  49.0   \n",
      "2        4295903660    COG       Cabot Oil & Gas Corp    10.0  26.0   \n",
      "3        4295903744    CVX               Chevron Corp  4879.0  90.0   \n",
      "4        4295903940    EQT                   EQT Corp   114.5  54.0   \n",
      "...             ...    ...                        ...     ...   ...   \n",
      "3155037  5044340396    IRM          Iron Mountain Inc  2789.5  86.0   \n",
      "3155038  5052136396   SBAC    SBA Communications Corp  1186.5  69.0   \n",
      "3155039  5052795406   INVH       Invitation Homes Inc  1339.0  63.0   \n",
      "3155040  5057776667   VICI        VICI Properties Inc  1167.5  74.0   \n",
      "3155041  5083821503   PEAK  Healthpeak Properties Inc    29.5  50.0   \n",
      "\n",
      "         ESGCombined  ESGControversies  ...  CSRStrategy  Community  \\\n",
      "0               66.0              43.0  ...          NaN       92.0   \n",
      "1               39.0              29.0  ...          NaN       77.0   \n",
      "2               26.0              97.0  ...          NaN       48.0   \n",
      "3               68.0              46.0  ...         81.0       87.0   \n",
      "4               54.0              85.0  ...          NaN       71.0   \n",
      "...              ...               ...  ...          ...        ...   \n",
      "3155037         62.0              39.0  ...         58.0       87.0   \n",
      "3155038         49.0              29.0  ...          NaN       91.0   \n",
      "3155039         39.0              16.0  ...         88.0       71.0   \n",
      "3155040         47.0              20.0  ...         54.0       85.0   \n",
      "3155041         50.0              54.0  ...          NaN       57.0   \n",
      "\n",
      "         Emissions  EnvironmentalInnovation  HumanRights  Management  \\\n",
      "0             89.0                     97.0         96.0        81.0   \n",
      "1             10.0                     93.0          NaN        65.0   \n",
      "2              NaN                      NaN          NaN         NaN   \n",
      "3             93.0                     99.0         94.0        76.0   \n",
      "4              NaN                     75.0          NaN        55.0   \n",
      "...            ...                      ...          ...         ...   \n",
      "3155037       78.0                     94.0          3.0        95.0   \n",
      "3155038       21.0                     82.0         47.0        79.0   \n",
      "3155039       76.0                     44.0         54.0        79.0   \n",
      "3155040       79.0                      1.0          NaN        89.0   \n",
      "3155041        NaN                     40.0          NaN         NaN   \n",
      "\n",
      "         ProductResponsibility  ResourceUse  Shareholders  Workforce  \n",
      "0                         81.0         83.0          95.0       91.0  \n",
      "1                         76.0          NaN          18.0        1.0  \n",
      "2                         26.0         14.0          23.0       29.0  \n",
      "3                         93.0         97.0          98.0       94.0  \n",
      "4                          1.0          NaN          61.0       43.0  \n",
      "...                        ...          ...           ...        ...  \n",
      "3155037                   85.0         98.0          86.0       83.0  \n",
      "3155038                   78.0         52.0          89.0       96.0  \n",
      "3155039                   70.0          2.0          95.0       59.0  \n",
      "3155040                   83.0         46.0          87.0       78.0  \n",
      "3155041                   51.0          NaN          41.0        NaN  \n",
      "\n",
      "[3155042 rows x 23 columns]\n"
     ]
    }
   ],
   "source": [
    "# Define the path to your folder containing the .txt files\n",
    "os.chdir(r\"C:\\Users\\ManosIeronymakisProb\\OneDrive - Probability\\Bureaublad\\thesis temporary\\PRO\\MI4\\CMPNY_ESG_CORE\\W365_UDAI\")\n",
    "filepath = \"fast_SNP500_data.csv\"\n",
    "# Initialize dictionaries to store data for each column\n",
    "column_data = {\n",
    "    'ESG': [],\n",
    "    'ESGCombined': [],\n",
    "    'ESGControversies': [],\n",
    "    'EnvironmentalPillar': [],\n",
    "    'GovernancePillar': [],\n",
    "    'SocialPillar': []\n",
    "}\n",
    "\n",
    "\n",
    "# Read the data from the current file into a DataFrame\n",
    "df = pd.read_csv(filepath)  \n",
    "print(df)"
   ]
  },
  {
   "cell_type": "markdown",
   "id": "1b68ff28",
   "metadata": {},
   "source": [
    "# Statistical table of fast scores"
   ]
  },
  {
   "cell_type": "code",
   "execution_count": 4,
   "id": "9b1554e5",
   "metadata": {},
   "outputs": [
    {
     "name": "stdout",
     "output_type": "stream",
     "text": [
      "                ESG   ESGCombined  ESGControversies  EnvironmentalPillar  \\\n",
      "count  3.155042e+06  3.155042e+06      3.155042e+06         3.100659e+06   \n",
      "mean   6.952876e+01  5.421394e+01      4.011760e+01         6.643579e+01   \n",
      "std    1.590502e+01  1.393504e+01      1.863549e+01         2.265148e+01   \n",
      "min    2.000000e+00  2.000000e+00      1.000000e+00         1.000000e+00   \n",
      "25%    6.000000e+01  4.500000e+01      2.600000e+01         5.100000e+01   \n",
      "50%    7.300000e+01  5.500000e+01      3.900000e+01         7.200000e+01   \n",
      "75%    8.200000e+01  6.400000e+01      5.400000e+01         8.600000e+01   \n",
      "max    9.900000e+01  9.700000e+01      1.000000e+02         1.000000e+02   \n",
      "\n",
      "       GovernancePillar  SocialPillar  \n",
      "count      3.143935e+06  3.153776e+06  \n",
      "mean       7.040340e+01  7.202367e+01  \n",
      "std        2.078590e+01  1.898971e+01  \n",
      "min        1.000000e+00  1.000000e+00  \n",
      "25%        6.200000e+01  6.000000e+01  \n",
      "50%        7.500000e+01  7.700000e+01  \n",
      "75%        8.600000e+01  8.700000e+01  \n",
      "max        1.000000e+02  1.000000e+02  \n"
     ]
    }
   ],
   "source": [
    "# Selecting the specified columns\n",
    "columns_of_interest = [\n",
    "    'ESG', 'ESGCombined', 'ESGControversies',\n",
    "    'EnvironmentalPillar', 'GovernancePillar', 'SocialPillar'\n",
    "]\n",
    "\n",
    "# Converting columns to numeric\n",
    "df[columns_of_interest] = df[columns_of_interest].apply(pd.to_numeric, errors='coerce')\n",
    "\n",
    "# Calculating statistics for the columns\n",
    "statistics = df[columns_of_interest].describe()\n",
    "\n",
    "print(statistics)"
   ]
  },
  {
   "cell_type": "markdown",
   "id": "e8e88d05",
   "metadata": {},
   "source": [
    "# Missing values of fast scores "
   ]
  },
  {
   "cell_type": "code",
   "execution_count": 5,
   "id": "829e7f38",
   "metadata": {},
   "outputs": [
    {
     "name": "stdout",
     "output_type": "stream",
     "text": [
      "                     Missing Values  Percentage (%)\n",
      "ESG                               0        0.000000\n",
      "ESGCombined                       0        0.000000\n",
      "ESGControversies                  0        0.000000\n",
      "EnvironmentalPillar           54383        1.723685\n",
      "GovernancePillar              11107        0.352040\n",
      "SocialPillar                   1266        0.040126\n"
     ]
    }
   ],
   "source": [
    "# Calculating missing values and their percentages\n",
    "missing_values = df[columns_of_interest].isnull().sum()\n",
    "missing_percentages = (missing_values / len(df)) * 100\n",
    "\n",
    "# Combining missing values and their percentages into a single dataframe\n",
    "missing_info = pd.DataFrame({\n",
    "    'Missing Values': missing_values,\n",
    "    'Percentage (%)': missing_percentages\n",
    "})\n",
    "\n",
    "print(missing_info)    "
   ]
  }
 ],
 "metadata": {
  "kernelspec": {
   "display_name": "Python 3 (ipykernel)",
   "language": "python",
   "name": "python3"
  },
  "language_info": {
   "codemirror_mode": {
    "name": "ipython",
    "version": 3
   },
   "file_extension": ".py",
   "mimetype": "text/x-python",
   "name": "python",
   "nbconvert_exporter": "python",
   "pygments_lexer": "ipython3",
   "version": "3.9.13"
  }
 },
 "nbformat": 4,
 "nbformat_minor": 5
}
