{
 "cells": [
  {
   "cell_type": "markdown",
   "id": "8f09eb09",
   "metadata": {},
   "source": [
    "# Data Load"
   ]
  },
  {
   "cell_type": "code",
   "execution_count": 1,
   "id": "ad567502",
   "metadata": {},
   "outputs": [],
   "source": [
    "import pandas as pd\n",
    "import glob\n",
    "import os"
   ]
  },
  {
   "cell_type": "code",
   "execution_count": 2,
   "id": "dbc84d5a",
   "metadata": {},
   "outputs": [
    {
     "name": "stderr",
     "output_type": "stream",
     "text": [
      "C:\\Users\\ManosIeronymakisProb\\AppData\\Local\\Temp\\ipykernel_19560\\1741754162.py:15: DtypeWarning: Columns (4) have mixed types. Specify dtype option on import or set low_memory=False.\n",
      "  fast_df = pd.read_csv(file_path, delimiter='\\t')\n"
     ]
    }
   ],
   "source": [
    "os.chdir(r\"C:\\Users\\ManosIeronymakisProb\\OneDrive - Probability\\Bureaublad\\thesis temporary\\PRO\\MI4\\CMPNY_ESG_CORE\\W365_UDAI\")\n",
    "# Load the slow data\n",
    "slow_data_path = \"S&P500_Slow_ESG_Scores_With_PermIDs.csv\"\n",
    "slow_df = pd.read_csv(slow_data_path)\n",
    "\n",
    "# Define the folder path containing the text files\n",
    "folder_path = r\"C:\\Users\\ManosIeronymakisProb\\OneDrive - Probability\\Bureaublad\\thesis temporary\\PRO\\MI4\\CMPNY_ESG_CORE\\W365_UDAI\\*.txt\"\n",
    "\n",
    "# Initialize an empty list to store filtered data\n",
    "filtered_data = []\n",
    "\n",
    "# Iterate through each text file\n",
    "for file_path in glob.glob(folder_path):\n",
    "    # Read the data from the current file into a DataFrame\n",
    "    fast_df = pd.read_csv(file_path, delimiter='\\t')\n",
    "    # Filter the fast data based on Company_Name matching with slow data\n",
    "    filtered_df = fast_df[fast_df['assetCode'].isin(slow_df['PermID'])]\n",
    "    filtered_data.append(filtered_df)\n",
    "\n",
    "# Concatenate the filtered data into a single DataFrame\n",
    "concatenated_df = pd.concat(filtered_data)"
   ]
  },
  {
   "cell_type": "markdown",
   "id": "8ddcc53f",
   "metadata": {},
   "source": [
    "# Creation of S&P500 companies ESG slow and fast anualized scores dataframe"
   ]
  },
  {
   "cell_type": "code",
   "execution_count": 3,
   "id": "61dfcf54",
   "metadata": {},
   "outputs": [],
   "source": [
    "# Extract year from 'windowTimestamp' column\n",
    "concatenated_df['Year'] = concatenated_df['windowTimestamp'].str[:4]\n",
    "\n",
    "# Convert 'Year' column to numeric\n",
    "concatenated_df['Year'] = pd.to_numeric(concatenated_df['Year'])\n",
    "\n",
    "# Calculate weighted mean ESG score for each year (Repeat this process for E,S,G,ESGCombined and ESGControversies)\n",
    "weighted_mean_df = concatenated_df.groupby(['assetCode', 'Year']).apply(lambda x: (x['ESG'] * x['buzz']).sum() / x['buzz'].sum()).reset_index(name='Weighted_Mean_ESG')\n",
    "\n",
    "# Pivot the slow data to have years as columns\n",
    "slow_pivot = slow_df.melt(id_vars=['Index', 'Id', 'PermID'], var_name='Year', value_name='Slow_ESG')\n",
    "\n",
    "# Pivot the weighted mean ESG scores to have years as columns\n",
    "weighted_mean_pivot = weighted_mean_df.pivot(index='assetCode', columns='Year', values='Weighted_Mean_ESG')\n",
    "\n",
    "# Convert index column to a normal column\n",
    "weighted_mean_pivot.reset_index(inplace=True)\n",
    "\n",
    "# Create a new list to store merged rows\n",
    "merged_rows = []\n",
    "\n",
    "# Create a new list to store exception rows\n",
    "exception_rows = []\n",
    "\n",
    "# Loop through Company_Name column of slow_df\n",
    "for company_name in slow_df['PermID']:\n",
    "    # Check if the company exists in weighted_mean_pivot\n",
    "    if company_name in weighted_mean_pivot['assetCode'].values:\n",
    "        # Get the index of the company in slow_df\n",
    "        slow_index = slow_df.index[slow_df['PermID'] == company_name][0]\n",
    "        # Get the index of the company in weighted_mean_pivot\n",
    "        weighted_index = weighted_mean_pivot.index[weighted_mean_pivot['assetCode'] == company_name][0]\n",
    "        # Merge the rows from slow_df and weighted_mean_pivot\n",
    "        merged_row = pd.concat([slow_df.loc[slow_index], weighted_mean_pivot.loc[weighted_index]], ignore_index=True)\n",
    "        # Rename the columns to mark the source\n",
    "        merged_row.index = slow_df.columns.tolist() + ['{}F'.format(year) for year in merged_row.index[len(slow_df.columns):]]\n",
    "        # Append the merged row to merged_rows\n",
    "        merged_rows.append(merged_row)\n",
    "    else:\n",
    "        # Add the row from slow_df to exception_rows\n",
    "        exception_rows.append(slow_df[slow_df['PermID'] == company_name])\n",
    "\n",
    "# Convert merged_rows list to DataFrame\n",
    "merged_df = pd.concat(merged_rows, axis=1).transpose()\n",
    "\n",
    "# Set the column names after merging\n",
    "merged_df.columns = list(slow_df.columns) + ['{}F'.format(year) for year in weighted_mean_pivot.columns]\n",
    "\n",
    "# Concatenate exception_rows into a single dataframe\n",
    "exceptions_df = pd.concat(exception_rows, ignore_index=True)\n",
    "\n",
    "# Remove the 'Index' column from merged_df\n",
    "merged_df.drop(columns=['Index'], inplace=True, errors='ignore')\n",
    "\n",
    "# Remove the 'nameF' column from merged_df\n",
    "merged_df.drop(columns=['nameF'], inplace=True, errors='ignore')\n",
    "\n",
    "# Add 'S' to the end of each year in the slow columns\n",
    "for column in merged_df.columns:\n",
    "    column_str = str(column)\n",
    "    if column_str.isdigit() and 'F' not in column_str:\n",
    "        merged_df.rename(columns={column: '{}S'.format(column_str)}, inplace=True)\n"
   ]
  },
  {
   "cell_type": "code",
   "execution_count": null,
   "id": "6e4df6a6",
   "metadata": {},
   "outputs": [],
   "source": [
    "merged_df.to_csv('merged_data_ESG_with_PermIDs.csv', index=False)"
   ]
  },
  {
   "cell_type": "code",
   "execution_count": 4,
   "id": "b47af7b3",
   "metadata": {},
   "outputs": [
    {
     "name": "stdout",
     "output_type": "stream",
     "text": [
      "         PermID       Id                    Company_Name      2024S  \\\n",
      "0    4295903261    AFL.N                       Aflac Inc  50.066051   \n",
      "1    4295903289    AES.N                        AES Corp  73.899905   \n",
      "2    4295903265    ABT.N             Abbott Laboratories  83.319176   \n",
      "3    4295905431  ADBE.OQ                       Adobe Inc  69.495684   \n",
      "4    4295903297   AMD.OQ      Advanced Micro Devices Inc  67.830529   \n",
      "..          ...      ...                             ...        ...   \n",
      "489  5081500884   CEG.OQ       Constellation Energy Corp   54.09183   \n",
      "490  5083504147  GEHC.OQ  GE Healthcare Technologies Inc  37.808184   \n",
      "491  5083557475   KVUE.N                      Kenvue Inc        NaN   \n",
      "492  5086711237   VLTO.N                    Veralto Corp        NaN   \n",
      "493  5086720112    GEV.N                  GE Vernova Inc        NaN   \n",
      "\n",
      "         2023S      2022S      2021S      2020S      2019S      2018S  ...  \\\n",
      "0    53.957505  53.152233  59.246564  54.841113  60.446906   51.54329  ...   \n",
      "1    74.548797  72.866961  69.040487  65.408983   60.74515  64.652848  ...   \n",
      "2    80.815092  81.782401   80.39614  77.600974   81.89946  79.345189  ...   \n",
      "3    74.686766  74.566465  65.619404  78.557105  78.593506  78.613595  ...   \n",
      "4    71.311912  66.183234  65.704292  68.507309  70.778869  71.727476  ...   \n",
      "..         ...        ...        ...        ...        ...        ...  ...   \n",
      "489  28.171655        NaN        NaN        NaN        NaN        NaN  ...   \n",
      "490        NaN        NaN        NaN        NaN        NaN        NaN  ...   \n",
      "491        NaN        NaN        NaN        NaN        NaN        NaN  ...   \n",
      "492        NaN        NaN        NaN        NaN        NaN        NaN  ...   \n",
      "493        NaN        NaN        NaN        NaN        NaN        NaN  ...   \n",
      "\n",
      "         2015F      2016F      2017F      2018F      2019F      2020F  \\\n",
      "0    85.586425  85.909459  84.712702  53.574794  86.746038  88.944934   \n",
      "1     75.69142  82.604014  83.694101  87.922385  77.463481   76.56376   \n",
      "2    77.903106  76.436325   64.03246  64.747895  65.475699  70.008434   \n",
      "3    89.363295  88.785105  90.963548   92.55392  90.153714  89.422421   \n",
      "4    38.761753  48.078339  53.898652  45.947996  47.646311  52.430618   \n",
      "..         ...        ...        ...        ...        ...        ...   \n",
      "489        NaN        NaN        NaN        NaN        NaN        NaN   \n",
      "490        NaN        NaN        NaN        NaN        NaN        NaN   \n",
      "491        NaN        NaN        NaN        NaN        NaN        NaN   \n",
      "492        NaN        NaN        NaN        NaN        NaN        NaN   \n",
      "493        NaN        NaN        NaN        NaN        NaN        NaN   \n",
      "\n",
      "         2021F      2022F      2023F      2024F  \n",
      "0    88.581512  91.702741  88.618107  88.529098  \n",
      "1    80.913739  83.788631   83.42524  81.791104  \n",
      "2    67.269684  52.944499  44.057941  43.991974  \n",
      "3    87.535293  87.036443  89.895201  86.749872  \n",
      "4    49.191574  58.419086  82.408163  87.191435  \n",
      "..         ...        ...        ...        ...  \n",
      "489        NaN  88.471952  93.345565  95.453058  \n",
      "490        NaN        NaN  84.193595  89.233256  \n",
      "491        NaN        NaN  86.270097  83.798905  \n",
      "492        NaN        NaN        NaN  78.776596  \n",
      "493        NaN        NaN        NaN  77.206945  \n",
      "\n",
      "[496 rows x 44 columns]\n"
     ]
    }
   ],
   "source": [
    "print(merged_df)"
   ]
  }
 ],
 "metadata": {
  "kernelspec": {
   "display_name": "Python 3 (ipykernel)",
   "language": "python",
   "name": "python3"
  },
  "language_info": {
   "codemirror_mode": {
    "name": "ipython",
    "version": 3
   },
   "file_extension": ".py",
   "mimetype": "text/x-python",
   "name": "python",
   "nbconvert_exporter": "python",
   "pygments_lexer": "ipython3",
   "version": "3.9.13"
  }
 },
 "nbformat": 4,
 "nbformat_minor": 5
}
