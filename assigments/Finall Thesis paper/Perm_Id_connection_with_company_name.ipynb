{
 "cells": [
  {
   "cell_type": "markdown",
   "id": "d4edbeca",
   "metadata": {},
   "source": [
    "# Data Load"
   ]
  },
  {
   "cell_type": "code",
   "execution_count": 2,
   "id": "014602a4",
   "metadata": {},
   "outputs": [],
   "source": [
    "import pandas as pd\n",
    "import glob\n",
    "import os"
   ]
  },
  {
   "cell_type": "code",
   "execution_count": 3,
   "id": "ba5a48f0",
   "metadata": {},
   "outputs": [],
   "source": [
    "os.chdir(r\"C:\\Users\\ManosIeronymakisProb\\OneDrive - Probability\\Bureaublad\\thesis temporary\\PRO\\MI4\\CMPNY_ESG_CORE\\W365_UDAI\")\n",
    "\n",
    "# Load the slow data\n",
    "slow_data_path = \"S&P500_Slow_ESG_Scores.xlsx\"\n",
    "\n",
    "#dataframe with the PermIds of the companies of SNP500\n",
    "slow_df = pd.read_excel(slow_data_path)\n",
    "\n",
    "os.chdir(r\"C:\\Users\\ManosIeronymakisProb\\OneDrive - Probability\\Bureaublad\\thesis temporary\")\n",
    "\n",
    "# Load the txt data\n",
    "txt_data_path = \"MI.Companies.BASIC.04039.txt\"\n",
    "#dataframe with the PermIDs and company name from Refinitiv server\n",
    "txt = pd.read_csv(txt_data_path, delimiter='\\t')"
   ]
  },
  {
   "cell_type": "markdown",
   "id": "08b503a6",
   "metadata": {},
   "source": [
    "# Data mapping "
   ]
  },
  {
   "cell_type": "code",
   "execution_count": 4,
   "id": "d33861f6",
   "metadata": {},
   "outputs": [
    {
     "name": "stdout",
     "output_type": "stream",
     "text": [
      "Number of common elements: 493\n"
     ]
    }
   ],
   "source": [
    "common_elements_count = len(set(slow_df['Company_Name']).intersection(txt['Name']))\n",
    "\n",
    "# Print the number of common elements\n",
    "print(\"Number of common elements:\", common_elements_count)\n",
    "\n",
    "# Create a dictionary mapping company names to OrgPermID\n",
    "name_to_permid = dict(zip(txt['Name'], txt['OrgPermID']))\n",
    "\n",
    "# Map company names to OrgPermID and create a new column 'PermID' in slow_df\n",
    "slow_df['PermID'] = slow_df['Company_Name'].map(name_to_permid)\n",
    "\n",
    "# Move 'PermID' column to the beginning of slow_df\n",
    "cols = list(slow_df.columns)\n",
    "cols = ['PermID'] + [col for col in cols if col != 'PermID']\n",
    "slow_df = slow_df[cols]\n",
    "\n",
    "nan_permid_df = slow_df[slow_df['PermID'].isna()]"
   ]
  },
  {
   "cell_type": "code",
   "execution_count": null,
   "id": "bde059d0",
   "metadata": {},
   "outputs": [],
   "source": [
    "# Save merged_df as a CSV file\n",
    "slow_df.to_csv('S&P500_Slow_ESG_Scores_With_PermIDs.csv', index=False)"
   ]
  },
  {
   "cell_type": "code",
   "execution_count": 5,
   "id": "f003d04d",
   "metadata": {},
   "outputs": [
    {
     "name": "stdout",
     "output_type": "stream",
     "text": [
      "           PermID  Index       Id                    Company_Name       2024  \\\n",
      "0    4.295903e+09      1    AFL.N                       Aflac Inc  50.066051   \n",
      "1    4.295903e+09      2    AES.N                        AES Corp  73.899905   \n",
      "2    4.295903e+09      3    ABT.N             Abbott Laboratories  83.319176   \n",
      "3    4.295905e+09      4  ADBE.OQ                       Adobe Inc  69.495684   \n",
      "4    4.295903e+09      5   AMD.OQ      Advanced Micro Devices Inc  67.830529   \n",
      "..            ...    ...      ...                             ...        ...   \n",
      "498  5.083504e+09    499  GEHC.OQ  GE Healthcare Technologies Inc  37.808184   \n",
      "499  5.083557e+09    500   KVUE.N                      Kenvue Inc        NaN   \n",
      "500  5.086711e+09    501   VLTO.N                    Veralto Corp        NaN   \n",
      "501           NaN    502    GEV.N                  GE Vernova Inc        NaN   \n",
      "502           NaN    503   SOLV.N                  Solventum Corp        NaN   \n",
      "\n",
      "          2023       2022       2021       2020       2019  ...       2014  \\\n",
      "0    53.957505  53.152233  59.246564  54.841113  60.446906  ...  61.027755   \n",
      "1    74.548797  72.866961  69.040487  65.408983  60.745150  ...  48.207709   \n",
      "2    80.815092  81.782401  80.396140  77.600974  81.899460  ...  80.571285   \n",
      "3    74.686766  74.566465  65.619404  78.557105  78.593506  ...  68.604625   \n",
      "4    71.311912  66.183234  65.704292  68.507309  70.778869  ...  65.781371   \n",
      "..         ...        ...        ...        ...        ...  ...        ...   \n",
      "498        NaN        NaN        NaN        NaN        NaN  ...        NaN   \n",
      "499        NaN        NaN        NaN        NaN        NaN  ...        NaN   \n",
      "500        NaN        NaN        NaN        NaN        NaN  ...        NaN   \n",
      "501        NaN        NaN        NaN        NaN        NaN  ...        NaN   \n",
      "502        NaN        NaN        NaN        NaN        NaN  ...        NaN   \n",
      "\n",
      "          2013       2012       2011       2010       2009       2008  \\\n",
      "0    57.346289  54.003631  58.110214  41.655169  50.050320  57.150950   \n",
      "1    32.548130  33.838115  41.462173  39.912656  39.312594  27.518488   \n",
      "2    83.649188  81.806494  77.165860  73.445280  64.647756  52.777024   \n",
      "3    71.575131  52.611805  51.010233  57.131784  55.933853  52.347356   \n",
      "4    64.913784  67.369502  64.859713  66.950168  67.843284  37.891083   \n",
      "..         ...        ...        ...        ...        ...        ...   \n",
      "498        NaN        NaN        NaN        NaN        NaN        NaN   \n",
      "499        NaN        NaN        NaN        NaN        NaN        NaN   \n",
      "500        NaN        NaN        NaN        NaN        NaN        NaN   \n",
      "501        NaN        NaN        NaN        NaN        NaN        NaN   \n",
      "502        NaN        NaN        NaN        NaN        NaN        NaN   \n",
      "\n",
      "          2007       2006       2005  \n",
      "0    39.418896  53.815012  48.134144  \n",
      "1    30.024312        NaN        NaN  \n",
      "2    66.872769  27.357027  40.670925  \n",
      "3    46.409784  49.653945  56.078433  \n",
      "4    46.219065  43.513974  36.841528  \n",
      "..         ...        ...        ...  \n",
      "498        NaN        NaN        NaN  \n",
      "499        NaN        NaN        NaN  \n",
      "500        NaN        NaN        NaN  \n",
      "501        NaN        NaN        NaN  \n",
      "502        NaN        NaN        NaN  \n",
      "\n",
      "[503 rows x 24 columns]\n"
     ]
    }
   ],
   "source": [
    "print(slow_df)"
   ]
  }
 ],
 "metadata": {
  "kernelspec": {
   "display_name": "Python 3 (ipykernel)",
   "language": "python",
   "name": "python3"
  },
  "language_info": {
   "codemirror_mode": {
    "name": "ipython",
    "version": 3
   },
   "file_extension": ".py",
   "mimetype": "text/x-python",
   "name": "python",
   "nbconvert_exporter": "python",
   "pygments_lexer": "ipython3",
   "version": "3.9.13"
  }
 },
 "nbformat": 4,
 "nbformat_minor": 5
}
