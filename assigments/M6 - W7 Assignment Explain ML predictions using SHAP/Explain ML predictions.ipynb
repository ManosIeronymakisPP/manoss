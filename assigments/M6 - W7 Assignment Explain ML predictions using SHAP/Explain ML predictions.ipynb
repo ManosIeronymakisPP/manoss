{
 "cells": [
  {
   "cell_type": "markdown",
   "id": "cd4283d1",
   "metadata": {},
   "source": [
    "# M6 - W7 Assignment Explain ML predictions using SHAP"
   ]
  },
  {
   "cell_type": "markdown",
   "id": "7882d6cb",
   "metadata": {},
   "source": [
    "In the field of ML and DS, model transparency and interpretability are crucial. This assignment provides you a hands-on opportunity to grapple with these challenges using the well-known Titanic dataset. While developing a tree-based model to predict passenger survival is your core task, the main emphasis is on understanding and communicating your model's decisions through the SHAP (SHapley Additive exPlanations) framework. This exercise underscores the importance of explainable AI in building trust and enabling meaningful use of AI outputs in decision-making.\n",
    "\n",
    " \n",
    "\n",
    "- Load the Dataset\n",
    "Load the Titanic dataset using the seaboard package (seaborn.load_dataset('titanic')). Alternatively, you can download it from the Kaggle website.\n",
    "\n",
    "- Fit a tree-based model\n",
    "Fit a tree-based model using a Cross-Validation to predict whether a passenger survived or not. Make sure to perform a Grid Search for some pf the parameters of the model (including, but not limited to number of trees, depth etc...). Also, refit the best model in the whole dataset.\n",
    "\n",
    "- Use SHAP values to explain the models prediction\n",
    "Use a SHAP explainer to make explanations about the model. Be sure to use any plot appropriate to explain the model. Your submission must be accompanied with a Markdown (or text) file clearly and in detail describing your findings.\n",
    "\n",
    "Use SHAP on text\n",
    "Did you think that SHAP was only available for tabular data>? Guess again!\n",
    "- Download the IDBM test dataset in the same way as in the previous assignment. Select 20 of them.\n",
    "- Download an already trained DistilBERT variant called distillbert-case-uncased-finetuned-sst-2-english and make predictions on the 20 texts you selected. You can download the model like:\n",
    "tokenizer = transformers.DistilBertTokenizerFast.from_pretrained(\"distilbert-base-uncased\")\n",
    "model = transformers.DistilBertForSequenceClassification.from_pretrained( \"distilbert-base-uncased-finetuned-sst-2-english\" )\n",
    "\n",
    "- Run a SHAP explainer on at least 2 of the correctly predicted passages. Do you think that SHAP is doing a good job on identifying words that make the text classified as either positively or negatively? \n",
    "\n",
    "You can find more about shop.text here: https://shap.readthedocs.io/en/latest/example_notebooks/text_examples/sentiment_analysis/Emotion%20classification%20multiclass%20example.htmlLinks to an external site.\n",
    "Extra points will be awarded for writing your own prediction function for SHAP"
   ]
  },
  {
   "cell_type": "markdown",
   "id": "1deaa50b",
   "metadata": {},
   "source": [
    "## Load the Dataset"
   ]
  },
  {
   "cell_type": "code",
   "execution_count": 1,
   "id": "70bf1cab",
   "metadata": {},
   "outputs": [],
   "source": [
    "import seaborn as sns\n",
    "\n",
    "titanic_df = sns.load_dataset('titanic')"
   ]
  },
  {
   "cell_type": "markdown",
   "id": "75be3481",
   "metadata": {},
   "source": [
    "## Fit a tree-based model"
   ]
  },
  {
   "cell_type": "code",
   "execution_count": 2,
   "id": "b511b4b9",
   "metadata": {},
   "outputs": [
    {
     "name": "stdout",
     "output_type": "stream",
     "text": [
      "Best Parameters: {'max_depth': 5, 'max_features': 'log2', 'min_samples_leaf': 1, 'min_samples_split': 10, 'n_estimators': 100}\n",
      "Best Score: 0.8384319905446667\n"
     ]
    },
    {
     "data": {
      "text/html": [
       "<style>#sk-container-id-1 {color: black;background-color: white;}#sk-container-id-1 pre{padding: 0;}#sk-container-id-1 div.sk-toggleable {background-color: white;}#sk-container-id-1 label.sk-toggleable__label {cursor: pointer;display: block;width: 100%;margin-bottom: 0;padding: 0.3em;box-sizing: border-box;text-align: center;}#sk-container-id-1 label.sk-toggleable__label-arrow:before {content: \"▸\";float: left;margin-right: 0.25em;color: #696969;}#sk-container-id-1 label.sk-toggleable__label-arrow:hover:before {color: black;}#sk-container-id-1 div.sk-estimator:hover label.sk-toggleable__label-arrow:before {color: black;}#sk-container-id-1 div.sk-toggleable__content {max-height: 0;max-width: 0;overflow: hidden;text-align: left;background-color: #f0f8ff;}#sk-container-id-1 div.sk-toggleable__content pre {margin: 0.2em;color: black;border-radius: 0.25em;background-color: #f0f8ff;}#sk-container-id-1 input.sk-toggleable__control:checked~div.sk-toggleable__content {max-height: 200px;max-width: 100%;overflow: auto;}#sk-container-id-1 input.sk-toggleable__control:checked~label.sk-toggleable__label-arrow:before {content: \"▾\";}#sk-container-id-1 div.sk-estimator input.sk-toggleable__control:checked~label.sk-toggleable__label {background-color: #d4ebff;}#sk-container-id-1 div.sk-label input.sk-toggleable__control:checked~label.sk-toggleable__label {background-color: #d4ebff;}#sk-container-id-1 input.sk-hidden--visually {border: 0;clip: rect(1px 1px 1px 1px);clip: rect(1px, 1px, 1px, 1px);height: 1px;margin: -1px;overflow: hidden;padding: 0;position: absolute;width: 1px;}#sk-container-id-1 div.sk-estimator {font-family: monospace;background-color: #f0f8ff;border: 1px dotted black;border-radius: 0.25em;box-sizing: border-box;margin-bottom: 0.5em;}#sk-container-id-1 div.sk-estimator:hover {background-color: #d4ebff;}#sk-container-id-1 div.sk-parallel-item::after {content: \"\";width: 100%;border-bottom: 1px solid gray;flex-grow: 1;}#sk-container-id-1 div.sk-label:hover label.sk-toggleable__label {background-color: #d4ebff;}#sk-container-id-1 div.sk-serial::before {content: \"\";position: absolute;border-left: 1px solid gray;box-sizing: border-box;top: 0;bottom: 0;left: 50%;z-index: 0;}#sk-container-id-1 div.sk-serial {display: flex;flex-direction: column;align-items: center;background-color: white;padding-right: 0.2em;padding-left: 0.2em;position: relative;}#sk-container-id-1 div.sk-item {position: relative;z-index: 1;}#sk-container-id-1 div.sk-parallel {display: flex;align-items: stretch;justify-content: center;background-color: white;position: relative;}#sk-container-id-1 div.sk-item::before, #sk-container-id-1 div.sk-parallel-item::before {content: \"\";position: absolute;border-left: 1px solid gray;box-sizing: border-box;top: 0;bottom: 0;left: 50%;z-index: -1;}#sk-container-id-1 div.sk-parallel-item {display: flex;flex-direction: column;z-index: 1;position: relative;background-color: white;}#sk-container-id-1 div.sk-parallel-item:first-child::after {align-self: flex-end;width: 50%;}#sk-container-id-1 div.sk-parallel-item:last-child::after {align-self: flex-start;width: 50%;}#sk-container-id-1 div.sk-parallel-item:only-child::after {width: 0;}#sk-container-id-1 div.sk-dashed-wrapped {border: 1px dashed gray;margin: 0 0.4em 0.5em 0.4em;box-sizing: border-box;padding-bottom: 0.4em;background-color: white;}#sk-container-id-1 div.sk-label label {font-family: monospace;font-weight: bold;display: inline-block;line-height: 1.2em;}#sk-container-id-1 div.sk-label-container {text-align: center;}#sk-container-id-1 div.sk-container {/* jupyter's `normalize.less` sets `[hidden] { display: none; }` but bootstrap.min.css set `[hidden] { display: none !important; }` so we also need the `!important` here to be able to override the default hidden behavior on the sphinx rendered scikit-learn.org. See: https://github.com/scikit-learn/scikit-learn/issues/21755 */display: inline-block !important;position: relative;}#sk-container-id-1 div.sk-text-repr-fallback {display: none;}</style><div id=\"sk-container-id-1\" class=\"sk-top-container\"><div class=\"sk-text-repr-fallback\"><pre>RandomForestClassifier(max_depth=5, max_features=&#x27;log2&#x27;, min_samples_split=10,\n",
       "                       random_state=42)</pre><b>In a Jupyter environment, please rerun this cell to show the HTML representation or trust the notebook. <br />On GitHub, the HTML representation is unable to render, please try loading this page with nbviewer.org.</b></div><div class=\"sk-container\" hidden><div class=\"sk-item\"><div class=\"sk-estimator sk-toggleable\"><input class=\"sk-toggleable__control sk-hidden--visually\" id=\"sk-estimator-id-1\" type=\"checkbox\" checked><label for=\"sk-estimator-id-1\" class=\"sk-toggleable__label sk-toggleable__label-arrow\">RandomForestClassifier</label><div class=\"sk-toggleable__content\"><pre>RandomForestClassifier(max_depth=5, max_features=&#x27;log2&#x27;, min_samples_split=10,\n",
       "                       random_state=42)</pre></div></div></div></div></div>"
      ],
      "text/plain": [
       "RandomForestClassifier(max_depth=5, max_features='log2', min_samples_split=10,\n",
       "                       random_state=42)"
      ]
     },
     "execution_count": 2,
     "metadata": {},
     "output_type": "execute_result"
    }
   ],
   "source": [
    "import pandas as pd\n",
    "import numpy as np\n",
    "from sklearn.model_selection import GridSearchCV, train_test_split\n",
    "from sklearn.ensemble import RandomForestClassifier\n",
    "\n",
    "# Prepare the data for modeling\n",
    "titanic_df.drop(['alive', 'embark_town', 'who', 'adult_male', 'deck', 'embarked', 'alone'], axis=1, inplace=True)\n",
    "titanic_df['age'].fillna(titanic_df['age'].median(), inplace=True)\n",
    "titanic_df['fare'].fillna(titanic_df['fare'].median(), inplace=True)\n",
    "titanic_df = pd.get_dummies(titanic_df, columns=['sex', 'class'], drop_first=True)\n",
    "\n",
    "# Split the data into features (X) and target variable (y)\n",
    "X = titanic_df.drop('survived', axis=1)\n",
    "y = titanic_df['survived']\n",
    "\n",
    "# Split the data into training and testing sets\n",
    "X_train, X_test, y_train, y_test = train_test_split(X, y, test_size=0.2, random_state=42)\n",
    "\n",
    "# Define the parameter grid for the grid search\n",
    "param_grid = {\n",
    "    'n_estimators': [100, 200, 300],\n",
    "    'max_depth': [3, 5, None],\n",
    "    'min_samples_split': [2, 5, 10],\n",
    "    'min_samples_leaf': [1, 2, 4],\n",
    "    'max_features': ['sqrt', 'log2', None]\n",
    "}\n",
    "\n",
    "# Initialize the Random Forest classifier\n",
    "rf = RandomForestClassifier(random_state=42)\n",
    "\n",
    "# Perform grid search cross-validation\n",
    "grid_search = GridSearchCV(rf, param_grid, cv=5)\n",
    "grid_search.fit(X_train, y_train)\n",
    "\n",
    "# Print the best parameters and best score\n",
    "print(\"Best Parameters:\", grid_search.best_params_)\n",
    "print(\"Best Score:\", grid_search.best_score_)\n",
    "\n",
    "# Refit the best model on the whole dataset\n",
    "best_model = grid_search.best_estimator_\n",
    "best_model.fit(X, y)"
   ]
  },
  {
   "cell_type": "markdown",
   "id": "22959051",
   "metadata": {},
   "source": [
    "Best Parameters:\n",
    "\n",
    "- max_depth: 5: This parameter represents the maximum depth of each decision tree in the random forest. A value of 5 means that each tree is limited to a maximum depth of 5 levels, controlling the complexity of the model and preventing overfitting.\n",
    "- max_features: 'log2': This parameter determines the maximum number of features to consider when looking for the best split during tree construction. In this case, 'log2' means that the number of features considered is the base-2 logarithm of the total number of features.\n",
    "- min_samples_leaf: 1: This parameter sets the minimum number of samples required to be at a leaf node of the tree. A value of 1 means that a leaf node must have at least one sample, which can help avoid creating nodes with very few samples.\n",
    "- min_samples_split: 10: This parameter sets the minimum number of samples required to split an internal node. A value of 10 means that a node must have at least 10 samples to be considered for splitting, which can help control the growth of the tree and prevent small groups of samples from being split.\n",
    "- n_estimators: 100: This parameter specifies the number of decision trees in the random forest ensemble. In this case, the best model consists of 100 decision trees.\n",
    "\n",
    "Best Score:\n",
    "\n",
    "- The best score obtained during the grid search cross-validation is 0.8384319905446667. This score represents the mean cross-validated accuracy of the model using the specified parameters. It indicates how well the model performs in terms of predicting passenger survival based on the given features."
   ]
  },
  {
   "cell_type": "markdown",
   "id": "5361c00a",
   "metadata": {},
   "source": [
    "## Use SHAP values to explain the models prediction"
   ]
  },
  {
   "cell_type": "code",
   "execution_count": 4,
   "id": "75d8ca7d",
   "metadata": {},
   "outputs": [
    {
     "data": {
      "image/png": "[encoded data removed]",
      "text/plain": [
       "<Figure size 800x470 with 1 Axes>"
      ]
     },
     "metadata": {},
     "output_type": "display_data"
    },
    {
     "data": {
      "text/html": [
       "\n",
       "<div id='iMJ4V3K1X10QYCK435Y63'>\n",
       "<div style='color: #900; text-align: center;'>\n",
       "  <b>Visualization omitted, Javascript library not loaded!</b><br>\n",
       "  Have you run `initjs()` in this notebook? If this notebook was from another\n",
       "  user you must also trust this notebook (File -> Trust notebook). If you are viewing\n",
       "  this notebook on github the Javascript has been stripped for security. If you are using\n",
       "  JupyterLab this error is because a JupyterLab extension has not yet been written.\n",
       "</div></div>\n",
       " <script>\n",
       "   if (window.SHAP) SHAP.ReactDom.render(\n",
       "    SHAP.React.createElement(SHAP.AdditiveForceVisualizer, {\"outNames\": [\"f(x)\"], \"baseValue\": 0.6162962962962965, \"outValue\": 0.7383938670922456, \"link\": \"identity\", \"featureNames\": [\"pclass\", \"age\", \"sibsp\", \"parch\", \"fare\", \"sex_male\", \"class_Second\", \"class_Third\"], \"features\": {\"0\": {\"effect\": 0.033958030285900886, \"value\": 3.0}, \"1\": {\"effect\": 0.02234992773243991, \"value\": 28.0}, \"2\": {\"effect\": -0.01742940709753213, \"value\": 1.0}, \"3\": {\"effect\": -0.04940176121901867, \"value\": 1.0}, \"4\": {\"effect\": -0.031358309045250665, \"value\": 15.2458}, \"5\": {\"effect\": 0.13233348064600636, \"value\": 1.0}, \"6\": {\"effect\": -0.0013184400772943887, \"value\": 0.0}, \"7\": {\"effect\": 0.032964049570697866, \"value\": 1.0}}, \"plot_cmap\": \"RdBu\", \"labelMargin\": 20}),\n",
       "    document.getElementById('iMJ4V3K1X10QYCK435Y63')\n",
       "  );\n",
       "</script>"
      ],
      "text/plain": [
       "<shap.plots._force.AdditiveForceVisualizer at 0x1a19edebc10>"
      ]
     },
     "execution_count": 4,
     "metadata": {},
     "output_type": "execute_result"
    }
   ],
   "source": [
    "import shap\n",
    "\n",
    "# Initialize the Tree SHAP explainer\n",
    "explainer = shap.TreeExplainer(best_model)\n",
    "\n",
    "# Compute SHAP values\n",
    "shap_values = explainer.shap_values(X_test)\n",
    "\n",
    "# Plot summary plot of SHAP values\n",
    "shap.summary_plot(shap_values, X_test)\n",
    "\n",
    "# Plot SHAP values for a single prediction (e.g., the first prediction)\n",
    "shap.force_plot(explainer.expected_value[0], shap_values[0][0,:], X_test.iloc[0,:])\n"
   ]
  },
  {
   "cell_type": "markdown",
   "id": "abe9b3b7",
   "metadata": {},
   "source": [
    "The SHAP summary plot provides a visual representation of feature importance and their impacts on the model predictions. The features are ordered by the sum of SHAP value magnitudes over all samples. Here are some key insights from the plot:\n",
    "\n",
    "- sex_male: Being a male (indicated by higher value on x-axis) tends to decrease the model's output, i.e., males were less likely to survive. This aligns with historical accounts that women and children were given priority during the Titanic evacuation.\n",
    "\n",
    "- fare: Higher fare tends to increase the model's output, i.e., passengers who paid higher fares were more likely to survive. This could be because higher fares correspond to higher passenger classes.\n",
    "\n",
    "- age: There is a mixed effect on the model's output. Very young passengers (towards the lower end of the x-axis) seem to have a higher chance of survival, aligning with the \"women and children first\" protocol. For older passengers, the effect varies.\n",
    "\n",
    "- pclass: Higher passenger class (lower numerical value) tends to increase the model's output, i.e., passengers of higher classes (1st class) were more likely to survive. Passengers of lower classes (3rd class) were less likely to survive.\n",
    "\n",
    "- class_Third and class_Second: Being in the second or third class (indicated by higher value on x-axis) tends to decrease the model's output, i.e., second and third-class passengers were less likely to survive.\n",
    "\n",
    "- sibsp and parch: These features have a mixed effect on the model's output. For passengers with a smaller number of siblings/spouses or parents/children on board, the effect varies."
   ]
  },
  {
   "cell_type": "markdown",
   "id": "4029e9e7",
   "metadata": {},
   "source": [
    "## Use SHAP on text"
   ]
  },
  {
   "cell_type": "markdown",
   "id": "7e9f6ff7",
   "metadata": {},
   "source": [
    "### Download the IMDb test dataset and select 20 samples."
   ]
  },
  {
   "cell_type": "code",
   "execution_count": 6,
   "id": "d108a02d",
   "metadata": {},
   "outputs": [],
   "source": [
    "import pandas as pd\n",
    "import random\n",
    "import os\n",
    "\n",
    "# Download the IMDb test dataset and select 20 samples\n",
    "os.chdir(\"C:\\\\Users\\\\ManosIeronymakisProb\\\\OneDrive - Probability\\\\Bureaublad\\\\ELU\\\\M6 - W7 Assignment Explain ML predictions using SHAP\")\n",
    "filepath = \"imdb_top_1000.csv\"\n",
    "imdb_test_df = pd.read_csv(filepath)\n",
    "random.seed(42)  # For reproducibility\n",
    "selected_indices = random.sample(range(len(imdb_test_df)), 20)\n",
    "selected_texts = imdb_test_df.iloc[selected_indices]['Overview']\n",
    "\n",
    "# Convert the pandas Series to a list of strings\n",
    "selected_texts = selected_texts.tolist()\n"
   ]
  },
  {
   "cell_type": "markdown",
   "id": "d3289325",
   "metadata": {},
   "source": [
    "### Download the pre-trained DistilBERT model for sentiment analysis."
   ]
  },
  {
   "cell_type": "code",
   "execution_count": 13,
   "id": "86dc1b94",
   "metadata": {},
   "outputs": [
    {
     "name": "stderr",
     "output_type": "stream",
     "text": [
      "All PyTorch model weights were used when initializing TFDistilBertForSequenceClassification.\n",
      "\n",
      "All the weights of TFDistilBertForSequenceClassification were initialized from the PyTorch model.\n",
      "If your task is similar to the task the model of the checkpoint was trained on, you can already use TFDistilBertForSequenceClassification for predictions without further training.\n"
     ]
    }
   ],
   "source": [
    "import transformers\n",
    "import shap\n",
    "\n",
    "# Download the pre-trained DistilBERT model for sentiment analysis\n",
    "tokenizer = transformers.DistilBertTokenizerFast.from_pretrained(\"distilbert-base-uncased\")\n",
    "model = transformers.TFDistilBertForSequenceClassification.from_pretrained(\"distilbert-base-uncased-finetuned-sst-2-english\")\n"
   ]
  },
  {
   "cell_type": "markdown",
   "id": "57832546",
   "metadata": {},
   "source": [
    "### Make predictions on the selected texts using the DistilBERT model."
   ]
  },
  {
   "cell_type": "code",
   "execution_count": 38,
   "id": "d48d43b7",
   "metadata": {},
   "outputs": [
    {
     "name": "stdout",
     "output_type": "stream",
     "text": [
      "Text: A genetically inferior man assumes the identity of a superior one in order to pursue his lifelong dream of space travel.\n",
      "Predicted Sentiment: negative\n",
      "\n",
      "Text: After discovering a mysterious artifact buried beneath the Lunar surface, mankind sets off on a quest to find its origins with help from intelligent supercomputer H.A.L. 9000.\n",
      "Predicted Sentiment: positive\n",
      "\n",
      "Text: The lives of guards on Death Row are affected by one of their charges: a black man accused of child murder and rape, yet who has a mysterious gift.\n",
      "Predicted Sentiment: negative\n",
      "\n",
      "Text: Grief-stricken mother Christine Collins (Angelina Jolie) takes on the L.A.P.D. to her own detriment when it tries to pass off an obvious impostor as her missing child.\n",
      "Predicted Sentiment: negative\n",
      "\n",
      "Text: An Irish rogue wins the heart of a rich widow and assumes her dead husband's aristocratic position in 18th-century England.\n",
      "Predicted Sentiment: positive\n",
      "\n",
      "Text: An insurance salesman discovers his whole life is actually a reality TV show.\n",
      "Predicted Sentiment: negative\n",
      "\n",
      "Text: A college professor bonds with an abandoned dog he takes into his home.\n",
      "Predicted Sentiment: negative\n",
      "\n",
      "Text: The story of Paan Singh Tomar, an Indian athlete and seven-time national steeplechase champion who becomes one of the most feared dacoits in Chambal Valley after his retirement.\n",
      "Predicted Sentiment: positive\n",
      "\n",
      "Text: An offbeat romantic comedy about a woman who doesn't believe true love exists, and the young man who falls for her.\n",
      "Predicted Sentiment: positive\n",
      "\n",
      "Text: A pragmatic U.S. Marine observes the dehumanizing effects the Vietnam War has on his fellow recruits from their brutal boot camp training to the bloody street fighting in Hue.\n",
      "Predicted Sentiment: positive\n",
      "\n",
      "Text: Two British former soldiers decide to set themselves up as Kings in Kafiristan, a land where no white man has set foot since Alexander the Great.\n",
      "Predicted Sentiment: positive\n",
      "\n",
      "Text: When a machine that allows therapists to enter their patients' dreams is stolen, all Hell breaks loose. Only a young female therapist, Paprika, can stop it.\n",
      "Predicted Sentiment: negative\n",
      "\n",
      "Text: A high school teacher's experiment to demonstrate to his students what life is like under a dictatorship spins horribly out of control when he forms a social unit with a life of its own.\n",
      "Predicted Sentiment: negative\n",
      "\n",
      "Text: When a nice old man who claims to be Santa Claus is institutionalized as insane, a young lawyer decides to defend him by arguing in court that he is the real thing.\n",
      "Predicted Sentiment: positive\n",
      "\n",
      "Text: A married couple are faced with a difficult decision - to improve the life of their child by moving to another country or to stay in Iran and look after a deteriorating parent who has Alzheimer's disease.\n",
      "Predicted Sentiment: negative\n",
      "\n",
      "Text: The true story of Captain Richard Phillips and the 2009 hijacking by Somali pirates of the U.S.-flagged MV Maersk Alabama, the first American cargo ship to be hijacked in two hundred years.\n",
      "Predicted Sentiment: positive\n",
      "\n",
      "Text: A harried movie director retreats into his memories and fantasies.\n",
      "Predicted Sentiment: negative\n",
      "\n",
      "Text: An angel is sent from Heaven to help a desperately frustrated businessman by showing him what life would have been like if he had never existed.\n",
      "Predicted Sentiment: positive\n",
      "\n",
      "Text: When a ronin requesting seppuku at a feudal lord's palace is told of the brutal suicide of another ronin who previously visited, he reveals how their pasts are intertwined - and in doing so challenges the clan's integrity.\n",
      "Predicted Sentiment: positive\n",
      "\n",
      "Text: Amélie is an innocent and naive girl in Paris with her own sense of justice. She decides to help those around her and, along the way, discovers love.\n",
      "Predicted Sentiment: positive\n",
      "\n"
     ]
    }
   ],
   "source": [
    "import tensorflow as tf\n",
    "\n",
    "def predict_sentiment(texts):\n",
    "    inputs = tokenizer(texts, padding=True, truncation=True, return_tensors=\"tf\")  # Use TensorFlow tensors\n",
    "    outputs = model(**inputs)\n",
    "    logits = outputs.logits\n",
    "    probabilities = tf.nn.softmax(logits, axis=1)  # Use tf.nn.softmax to calculate softmax probabilities\n",
    "    sentiment_labels = [\"negative\", \"positive\"]\n",
    "    predicted_labels = [sentiment_labels[pred] for pred in tf.argmax(probabilities, axis=1)]\n",
    "    return predicted_labels\n",
    "\n",
    "\n",
    "\n",
    "# Make predictions on the selected texts\n",
    "predicted_labels = predict_sentiment(selected_texts)\n",
    "\n",
    "# Print the selected texts and their corresponding predicted labels\n",
    "for text, label in zip(selected_texts, predicted_labels):\n",
    "    print(\"Text:\", text)\n",
    "    print(\"Predicted Sentiment:\", label)\n",
    "    print()"
   ]
  },
  {
   "cell_type": "markdown",
   "id": "19c4185d",
   "metadata": {},
   "source": [
    "### Run a SHAP explainer on at least 2 correctly predicted passages."
   ]
  },
  {
   "cell_type": "code",
   "execution_count": null,
   "id": "5b62d56c",
   "metadata": {},
   "outputs": [],
   "source": [
    "import numpy as np\n",
    "import shap\n",
    "\n",
    "# Select two texts that were correctly predicted (either both positive or both negative)\n",
    "correctly_predicted_texts = [text for text, label in zip(selected_texts, predicted_labels) if label == \"positive\" or label == \"negative\"]\n",
    "if len(correctly_predicted_texts) >= 2:\n",
    "    text_1, text_2 = correctly_predicted_texts[:2]\n",
    "\n",
    "    # Define a function for encoding texts\n",
    "    def encode_texts(texts):\n",
    "        inputs = tokenizer(texts, padding=True, truncation=True, return_tensors=\"tf\")\n",
    "        return {\n",
    "            \"input_ids\": inputs[\"input_ids\"],\n",
    "            \"attention_mask\": inputs[\"attention_mask\"]\n",
    "        }\n",
    "\n",
    "    # Encode the two selected texts\n",
    "    text_1_encoded = encode_texts([text_1])\n",
    "    text_2_encoded = encode_texts([text_2])\n",
    "\n",
    "    # Create a SHAP explainer for text classification using Deep explainer\n",
    "    explainer = shap.DeepExplainer(model, [text_1_encoded[\"input_ids\"], text_1_encoded[\"attention_mask\"]])\n",
    "\n",
    "    # Get the SHAP values for the two selected texts using Deep explainer\n",
    "    shap_values_1 = explainer.shap_values([text_1_encoded[\"input_ids\"], text_1_encoded[\"attention_mask\"]])\n",
    "    shap_values_2 = explainer.shap_values([text_2_encoded[\"input_ids\"], text_2_encoded[\"attention_mask\"]])\n",
    "else:\n",
    "    print(\"Not enough correctly predicted texts to continue.\")\n",
    "\n",
    "# Print the selected texts and their corresponding predicted labels\n",
    "for text, label in zip(selected_texts, predicted_labels):\n",
    "    print(\"Text:\", text)\n",
    "    print(\"Predicted Sentiment:\", label)\n",
    "    print()\n",
    "\n",
    "# Print the SHAP values for the two selected texts\n",
    "if len(correctly_predicted_texts) >= 2:\n",
    "    print(\"SHAP Values for Text 1:\")\n",
    "    print(shap_values_1)\n",
    "\n",
    "    print(\"SHAP Values for Text 2:\")\n",
    "    print(shap_values_2)\n"
   ]
  }
 ],
 "metadata": {
  "kernelspec": {
   "display_name": "Python 3 (ipykernel)",
   "language": "python",
   "name": "python3"
  },
  "language_info": {
   "codemirror_mode": {
    "name": "ipython",
    "version": 3
   },
   "file_extension": ".py",
   "mimetype": "text/x-python",
   "name": "python",
   "nbconvert_exporter": "python",
   "pygments_lexer": "ipython3",
   "version": "3.10.10"
  }
 },
 "nbformat": 4,
 "nbformat_minor": 5
}
