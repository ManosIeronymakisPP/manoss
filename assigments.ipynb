{
 "cells": [
  {
   "cell_type": "markdown",
   "id": "eb9f0be3",
   "metadata": {},
   "source": [
    "Student Alcohol Consumption"
   ]
  },
  {
   "cell_type": "markdown",
   "id": "6e6af976",
   "metadata": {},
   "source": [
    "# import pandas as pdStudents\n",
    "import pandas as pdStudents\n",
    "import os\n",
    "\n",
    "\n",
    "os.chdir(\"C:\\\\Users\\\\ManosIeronymakisProb\\\\OneDrive - Probability\\\\Bureaublad\\\\ELU\\\\M4 - WEEK 4  PROJECT Study Cases\")\n",
    "filepath =  \"student-mat.csv\"\n",
    "filepath1 =  \"student-por.csv\"\n",
    "\n",
    "\n",
    "df = pd.read_csv(filepath)\n",
    "df1= pd.read_csv(filepath1)"
   ]
  },
  {
   "cell_type": "code",
   "execution_count": null,
   "id": "fbf9071c",
   "metadata": {},
   "outputs": [],
   "source": []
  },
  {
   "cell_type": "code",
   "execution_count": null,
   "id": "aad20b90",
   "metadata": {},
   "outputs": [],
   "source": []
  }
 ],
 "metadata": {
  "kernelspec": {
   "display_name": "Python 3 (ipykernel)",
   "language": "python",
   "name": "python3"
  },
  "language_info": {
   "codemirror_mode": {
    "name": "ipython",
    "version": 3
   },
   "file_extension": ".py",
   "mimetype": "text/x-python",
   "name": "python",
   "nbconvert_exporter": "python",
   "pygments_lexer": "ipython3",
   "version": "3.11.0"
  }
 },
 "nbformat": 4,
 "nbformat_minor": 5
}
